{
 "cells": [
  {
   "cell_type": "markdown",
   "id": "1b45e27e",
   "metadata": {},
   "source": [
    "# Machine Learning Classifiers\n",
    "What is classification?\n",
    "\n",
    "Classification is the process of predicting the class of given data points. Classes are sometimes called as targets/ labels or categories. Classification predictive modeling is the task of approximating a mapping function (f) from input variables (X) to discrete output variables (y).\n",
    "\n",
    "Classification belongs to the category of supervised learning where the targets also provided with the input data. There are many applications in classification in many domains such as in credit approval, medical diagnosis, target marketing etc.\n",
    "\n"
   ]
  },
  {
   "cell_type": "markdown",
   "id": "b7e26644",
   "metadata": {},
   "source": [
    "## Classification algorithms\n",
    "- Logistic Regression.\n",
    "- Naïve Bayes.\n",
    "- Stochastic Gradient Descent.\n",
    "- K-Nearest Neighbours.\n",
    "- Decision Tree.\n",
    "- Random Forest.\n",
    "- Support Vector Machine."
   ]
  },
  {
   "cell_type": "markdown",
   "id": "d6e7570a",
   "metadata": {},
   "source": [
    "### Logistic Regression and Its Application in Predicting Dependent Variables\n",
    "\n",
    "Logistic Regression: Predicting Dependent Variables \n",
    "Logistic regression aims to measure the relationship between a categorical dependent variable and one or more independent variables (usually continuous) by plotting the dependent variables' probability scores.\n",
    "\n",
    "Logistic regression aims to measure the relationship between a categorical dependent variable and one or more independent variables (usually continuous) by plotting the dependent variables' probability scores. A categorical variable is a variable that can take values falling in limited categories instead of being continuous.\n",
    "\n",
    "\n",
    "- Definition: Logistic regression is a machine learning algorithm for classification. In this algorithm, the probabilities describing the possible outcomes of a single trial are modelled using a logistic function.\n",
    "\n",
    "- Advantages: Logistic regression is designed for this purpose (classification), and is most useful for understanding the influence of several independent variables on a single outcome variable.\n",
    "\n",
    "- Disadvantages: Works only when the predicted variable is binary, assumes all predictors are independent of each other and assumes data is free of missing values."
   ]
  },
  {
   "cell_type": "markdown",
   "id": "f8e94fbf",
   "metadata": {},
   "source": [
    "### Naïve Bayes\n",
    "\n",
    "- Definition: Naive Bayes algorithm based on Bayes’ theorem with the assumption of independence between every pair of features. Naive Bayes classifiers work well in many real-world situations such as document classification and spam filtering.\n",
    "\n",
    "- Advantages: This algorithm requires a small amount of training data to estimate the necessary parameters. Naive Bayes classifiers are extremely fast compared to more sophisticated methods.\n",
    "\n",
    "- Disadvantages: Naive Bayes is is known to be a bad estimator."
   ]
  },
  {
   "cell_type": "markdown",
   "id": "a25a6871",
   "metadata": {},
   "source": [
    "### Stochastic Gradient Descent\n",
    "\n",
    "- Definition: Stochastic gradient descent is a simple and very efficient approach to fit linear models. It is particularly useful when the number of samples is very large. It supports different loss functions and penalties for classification.\n",
    "\n",
    "- Advantages: Efficiency and ease of implementation.\n",
    "\n",
    "- Disadvantages: Requires a number of hyper-parameters and it is sensitive to feature scaling."
   ]
  },
  {
   "cell_type": "markdown",
   "id": "13b1dddd",
   "metadata": {},
   "source": [
    "### K-Nearest Neighbours\n",
    "\n",
    "- Definition: Neighbours based classification is a type of lazy learning as it does not attempt to construct a general internal model, but simply stores instances of the training data. Classification is computed from a simple majority vote of the k nearest neighbours of each point.\n",
    "\n",
    "- Advantages: This algorithm is simple to implement, robust to noisy training data, and effective if training data is large.\n",
    "\n",
    "- Disadvantages: Need to determine the value of K and the computation cost is high as it needs to compute the distance of each instance to all the training samples."
   ]
  },
  {
   "cell_type": "markdown",
   "id": "3e3a072c",
   "metadata": {},
   "source": [
    "### Decision Tree\n",
    "\n",
    "- Definition: Given a data of attributes together with its classes, a decision tree produces a sequence of rules that can be used to classify the data.\n",
    "\n",
    "- Advantages: Decision Tree is simple to understand and visualise, requires little data preparation, and can handle both numerical and categorical data.\n",
    "- Disadvantages: Decision tree can create complex trees that do not generalise well, and decision trees can be unstable because small variations in the data might result in a completely different tree being generated."
   ]
  },
  {
   "cell_type": "markdown",
   "id": "4622f49c",
   "metadata": {},
   "source": [
    "### Random Forest\n",
    "\n",
    "- Definition: Random forest classifier is a meta-estimator that fits a number of decision trees on various sub-samples of datasets and uses average to improve the predictive accuracy of the model and controls over-fitting. The sub-sample size is always the same as the original input sample size but the samples are drawn with replacement.\n",
    "\n",
    "- Advantages: Reduction in over-fitting and random forest classifier is more accurate than decision trees in most cases.\n",
    "\n",
    "- Disadvantages: Slow real time prediction, difficult to implement, and complex algorithm."
   ]
  },
  {
   "cell_type": "markdown",
   "id": "0c28f826",
   "metadata": {},
   "source": [
    "### Support Vector Machine\n",
    "\n",
    "- Definition: Support vector machine is a representation of the training data as points in space separated into categories by a clear gap that is as wide as possible. New examples are then mapped into that same space and predicted to belong to a category based on which side of the gap they fall.\n",
    "\n",
    "- Advantages: Effective in high dimensional spaces and uses a subset of training points in the decision function so it is also memory efficient.\n",
    "\n",
    "- Disadvantages: The algorithm does not directly provide probability estimates, these are calculated using an expensive five-fold cross-validation."
   ]
  },
  {
   "cell_type": "markdown",
   "id": "483c5481",
   "metadata": {},
   "source": [
    "### Conclusion\n",
    "#### Comparison Matrix\n",
    "\n",
    "    Accuracy: (True Positive + True Negative) / Total Population\n",
    "        Accuracy is a ratio of correctly predicted observation to the total observations. Accuracy is the most intuitive performance measure.\n",
    "        True Positive: The number of correct predictions that the occurrence is positive\n",
    "        True Negative: The number of correct predictions that the occurrence is negative\n",
    "    F1-Score: (2 x Precision x Recall) / (Precision + Recall)\n",
    "        F1-Score is the weighted average of Precision and Recall used in all types of classification algorithms. Therefore, this score takes both false positives and false negatives into account. F1-Score is usually more useful than accuracy, especially if you have an uneven class distribution.\n",
    "        Precision: When a positive value is predicted, how often is the prediction correct?\n",
    "        Recall: When the actual value is positive, how often is the prediction correct?\n"
   ]
  },
  {
   "cell_type": "code",
   "execution_count": null,
   "id": "dcd3bf65",
   "metadata": {},
   "outputs": [],
   "source": []
  }
 ],
 "metadata": {
  "kernelspec": {
   "display_name": "Python 3",
   "language": "python",
   "name": "python3"
  },
  "language_info": {
   "codemirror_mode": {
    "name": "ipython",
    "version": 3
   },
   "file_extension": ".py",
   "mimetype": "text/x-python",
   "name": "python",
   "nbconvert_exporter": "python",
   "pygments_lexer": "ipython3",
   "version": "3.8.8"
  }
 },
 "nbformat": 4,
 "nbformat_minor": 5
}
